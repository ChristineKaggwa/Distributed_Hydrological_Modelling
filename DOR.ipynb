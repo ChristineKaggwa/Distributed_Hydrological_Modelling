{
 "cells": [
  {
   "cell_type": "markdown",
   "id": "3b7207d1",
   "metadata": {},
   "source": [
    "## Degree of Regulation and Degree of Inflow Alteration"
   ]
  },
  {
   "cell_type": "code",
   "execution_count": 1,
   "id": "fd71e79b",
   "metadata": {},
   "outputs": [],
   "source": [
    "import pandas as pd\n",
    "import matplotlib.pyplot as plt\n",
    "import numpy as np\n",
    "from matplotlib.ticker import MaxNLocator"
   ]
  },
  {
   "cell_type": "markdown",
   "id": "802258a7",
   "metadata": {},
   "source": [
    "### Input files\n",
    "\n",
    "#### 1. Reservoir_nat: Naturalized lake routine\n",
    "- Natural inflows: `df_Inat`\n",
    "- Natural outflows: `df_Qnat`\n",
    "\n",
    "#### 2. Reservoir_alt: Simulated altered outflows\n",
    "- Altered inflows: `df_Inat`\n",
    "- Altered outflows: `df_Qalt`\n",
    "\n",
    "#### 3. Reservoir_reg: Regulated discharges\n",
    "- Altered inflows: `df_Inat`\n",
    "- Regulated outflows: `df_Qreg`\n"
   ]
  },
  {
   "cell_type": "code",
   "execution_count": 3,
   "id": "30324e2f",
   "metadata": {},
   "outputs": [],
   "source": [
    "# function to group year\n",
    "def monthly_sum(df):\n",
    "    #Grouping ny year and calculating the monthly sums\n",
    "    monthly_sum = df.groupby([df.index.year, df.index.month]).sum()\n",
    "    monthly_sum.index.names =['Year', 'Month']\n",
    "    \n",
    "    #Resetting the index to convert a multi.index DataFrame into a regular DataFrame\n",
    "    monthly_sum= monthly_sum.reset_index()\n",
    "    return monthly_sum\n",
    "'''\n",
    "Or use a pivot table function\n",
    "'''\n",
    "\n",
    "def pivot_table(df, column_name):\n",
    "    pivot_table= df.pivot(index='Year', columns='Month', values=column_name)\n",
    "    \n",
    "    return pivot_table\n",
    "\n",
    "#Degree of Regulation DOR\n",
    "def DOR(pivot_table_regulated, pivot_table_natural): # Degree of Regulation\n",
    "    \n",
    "    #Ensure they are of the same period\n",
    "    DOR = (pivot_table_regulated-pivot_table_natural)/pivot_table_natural\n",
    "    return DOR\n",
    "\n",
    "\n",
    "\n",
    "#Degree of Inflow Alteration\n",
    "def DIA(pivot_table_altered, pivot_table_natural):\n",
    "       \n",
    "    #Ensure they are of the same period\n",
    "    DIA = (pivot_table_atered-pivot_table_natural)/pivot_table_natural\n",
    "    return DIA\n"
   ]
  },
  {
   "cell_type": "code",
   "execution_count": 6,
   "id": "b0f573d2",
   "metadata": {},
   "outputs": [],
   "source": [
    "DATADIR ='path'"
   ]
  },
  {
   "cell_type": "markdown",
   "id": "6275e407",
   "metadata": {},
   "source": [
    "### Computing the monthly sum"
   ]
  },
  {
   "cell_type": "code",
   "execution_count": null,
   "id": "eef4d70e",
   "metadata": {},
   "outputs": [],
   "source": [
    "#Naturaliazed flows\n",
    "I_nat= monthly_sum(df_Inat) #Inflows\n",
    "Q_nat= monthly_sum(df_Qnat) #Outflows\n",
    "\n",
    "#Altered flows\n",
    "I_alt= monthly_sum(df_Ialt) #Inflows\n",
    "Q_alt= monthly_sum(df_Qalt) #Outflows\n",
    "\n",
    "\n",
    "#Regulated outflows\n",
    "Q_reg= monthly_sum(df_Qreg)#Outflows\n"
   ]
  },
  {
   "cell_type": "code",
   "execution_count": null,
   "id": "cddcab69",
   "metadata": {},
   "outputs": [],
   "source": [
    "#Narutalized lake flows\n",
    "pivot_Inat= pivot_table(I_nat,'Inflow (m3/s)') # Naturalized lake Inflow\n",
    "\n",
    "pivot_Qnat= pivot_table(Q_nat,'Outflow (m3/s)') # Naturalized lake outflows\n",
    "\n",
    "#Altered Inflows\n",
    "pivot_Ialt= pivot_table(I_alt,'Inflow (m3/s)') # Altered lake Inflow\n",
    "\n",
    "#Corresponding Altered outflows\n",
    "pivot_Qalt= pivot_table(Q_alt,'Outflow (m3/s)') # Altered lake outflows\n",
    "\n",
    "\n",
    "#Regulated outflows\n",
    "pivot_Qreg_Kianta= pivot_table(Q_reg,'Outflow (m3/s)') # Regulated\n"
   ]
  },
  {
   "cell_type": "code",
   "execution_count": null,
   "id": "6a28cf2e",
   "metadata": {},
   "outputs": [],
   "source": [
    "# Computing the degree of regulation \n",
    "DOR= DOR(pivot_Qreg, pivot_Qnat)\n",
    "\n",
    "# Computing the local degree of regulation \n",
    "DOR= DOR(pivot_Qreg, pivot_Qalt)\n",
    "\n",
    "#Degree of inflow alteration\n",
    "DIA= DIA(pivot_Ialt, pivot_Inat)\n"
   ]
  },
  {
   "cell_type": "code",
   "execution_count": null,
   "id": "5474cc10",
   "metadata": {},
   "outputs": [],
   "source": [
    "#Quantile and Means\n",
    "DOR.quantile(0.5)\n",
    "\n",
    "# Mean\n",
    "DOR.mean"
   ]
  },
  {
   "cell_type": "markdown",
   "id": "9aff5147",
   "metadata": {},
   "source": [
    "###  Plotting functions "
   ]
  },
  {
   "cell_type": "markdown",
   "id": "3fc8685a",
   "metadata": {},
   "source": [
    "### 1. Daily averages"
   ]
  },
  {
   "cell_type": "code",
   "execution_count": 17,
   "id": "b026f3f2",
   "metadata": {},
   "outputs": [],
   "source": [
    "def plot_discharges(df_inflow, df_outflow, name):\n",
    "    df_50= df_inflow.groupby(df_inflow.index.dayofyear).quantile(0.5)\n",
    "    df_25= df_inflow.groupby(df_inflow.index.dayofyear).quantile(0.25)\n",
    "    df_75= df_inflow.groupby(df_inflow.index.dayofyear).quantile(0.75)\n",
    "    \n",
    "    \n",
    "    df2_50= df_outflow.groupby(df_outflow.index.dayofyear).quantile(0.5)\n",
    "    df2_25= df_outflow.groupby(df_outflow.index.dayofyear).quantile(0.25)\n",
    "    df2_75= df_outflow.groupby(df_outflow.index.dayofyear).quantile(0.75)\n",
    "    \n",
    "    #Plotting\n",
    "    fig, ax= plt.subplots(1, figsize=(4,2.5), dpi=600)\n",
    "    ax.plot(df_50, color='tab:orange', label='$Q_{nat}$')\n",
    "    ax.plot(df2_50, color='maroon', label='$Q_{reg}$')\n",
    "    ax.fill_between(df_50.index,df_25,df_75, alpha=0.1, color='tab:orange')\n",
    "    \n",
    "    ax.fill_between(df2_50.index,df2_25,df2_75, alpha=0.1, color='maroon')\n",
    "    \n",
    "    ax.set_xlim(1, 365)\n",
    "    ax.set_ylabel('Q (m^3/s)', fontsize = 8,fontweight='bold') #, fontweight='bold'\n",
    "    ax.set_xlabel('Day of the year', fontsize = 8, fontweight='bold')\n",
    "    \n",
    "    \n",
    "    # Formatting tick labels with bold font\n",
    "    for label in ax.get_xticklabels():\n",
    "        label.set_fontsize(8)\n",
    "        label.set_fontweight('bold')\n",
    "\n",
    "    for label in ax.get_yticklabels():\n",
    "        label.set_fontsize(8)\n",
    "        label.set_fontweight('bold')\n",
    "\n",
    "            \n",
    "    #Making bold lables\n",
    "   \n",
    "            \n",
    "    handles, labels = ax.get_legend_handles_labels()\n",
    "    ax.legend(handles, labels, loc='upper right',prop={'weight': 'bold'}, fontsize = 8,frameon=False)\n",
    "    plt.tight_layout()\n",
    "    plt.rcParams['savefig.dpi'] = 600\n",
    "    plt.savefig(f'{path}{name}_reg.jpg')\n",
    "    \n",
    "    plt.show()"
   ]
  },
  {
   "cell_type": "code",
   "execution_count": null,
   "id": "0b5a2b56",
   "metadata": {},
   "outputs": [],
   "source": [
    "#Days of year\n",
    "plot_discharges(df_Qnat['Outflow (m3/s)'],df_Qreg['Outflow (m3/s)'],'name' )"
   ]
  },
  {
   "cell_type": "markdown",
   "id": "8d237312",
   "metadata": {},
   "source": [
    "### 2. Monthly Discharges"
   ]
  },
  {
   "cell_type": "code",
   "execution_count": null,
   "id": "bf7a352b",
   "metadata": {},
   "outputs": [],
   "source": [
    "fig, ax= plt.subplots(1,1, figsize= (3.5,2), dpi=300)\n",
    "ax.plot(df_Qnat.groupby(df_Qnat.index.month).mean(), label='Q$_{nat}$')\n",
    "ax.plot(df_Qreg.groupby(df_Qreg.index.month).mean(), label='Q$_{reg}$')\n",
    "\n",
    "\n",
    "ax.xaxis.set_tick_params(labelsize=8)\n",
    "ax.yaxis.set_tick_params(labelsize=8)\n",
    "ax.set_xlim(1,12)\n",
    "ax.set_title('(a.1) name', loc='left', fontsize=8,fontweight='bold')\n",
    "\n",
    "ax.set_xlabel('months',fontsize=8)\n",
    "ax.set_ylabel('Q $(m^{3}/s$)',fontsize=8)\n",
    "\n",
    "#$(m^{3}/s)$'\n",
    "            \n",
    "handles, labels = ax.get_legend_handles_labels()\n",
    "ax.legend(handles, labels, loc='upper right', fontsize = 8,frameon=False)\n",
    "    \n",
    "#ax.set_title('Degree of Regulation Kiantajärvi')\n",
    "plt.tight_layout()\n",
    "plt.savefig(f'{path}name_reg.jpeg')\n",
    "plt.show()"
   ]
  },
  {
   "cell_type": "markdown",
   "id": "36fd1746",
   "metadata": {},
   "source": [
    "### 3. Degree of Regulation"
   ]
  },
  {
   "cell_type": "code",
   "execution_count": null,
   "id": "a40d357d",
   "metadata": {},
   "outputs": [],
   "source": [
    "fig, ax= plt.subplots(1,1, figsize= (4,2.5), dpi=300)\n",
    "ax.plot(DOR.quantile(0.5), color='k')\n",
    "\n",
    "ax.fill_between(DOR.quantile(0.5).index,DOR.quantile(0.25),DOR.quantile(0.75), alpha=0.1,\n",
    "                )\n",
    "ax.axhline(0, color= 'grey',linestyle='dashed' )# label= f'No regulation'\n",
    "ax.xaxis.set_tick_params(labelsize=8)\n",
    "ax.yaxis.set_tick_params(labelsize=8)\n",
    "ax.set_xlim(1,12)\n",
    "ax.set_title('name', loc='left')\n",
    "\n",
    "ax.set_xlabel('months', fontweight='bold')\n",
    "ax.set_ylabel('Degree of regulation',fontweight='bold')\n",
    "\n",
    "# Formatting tick labels with bold font\n",
    "for label in ax.get_xticklabels():\n",
    "    label.set_fontsize(8)\n",
    "    label.set_fontweight('bold')\n",
    "\n",
    "for label in ax.get_yticklabels():\n",
    "    label.set_fontsize(8)\n",
    "    label.set_fontweight('bold')\n",
    "\n",
    "  \n",
    "            \n",
    "handles, labels = ax.get_legend_handles_labels()\n",
    "ax.legend(handles, labels, loc='upper right',prop={'weight': 'bold'}, fontsize = 8,frameon=False)\n",
    "    \n",
    "#ax.set_title('Degree of Regulation Kiantajärvi')\n",
    "plt.tight_layout()\n",
    "plt.savefig(f'{path}DOR_Kianta')\n",
    "plt.show()"
   ]
  },
  {
   "cell_type": "code",
   "execution_count": null,
   "id": "dbce000c",
   "metadata": {},
   "outputs": [],
   "source": []
  }
 ],
 "metadata": {
  "kernelspec": {
   "display_name": "Python 3 (ipykernel)",
   "language": "python",
   "name": "python3"
  },
  "language_info": {
   "codemirror_mode": {
    "name": "ipython",
    "version": 3
   },
   "file_extension": ".py",
   "mimetype": "text/x-python",
   "name": "python",
   "nbconvert_exporter": "python",
   "pygments_lexer": "ipython3",
   "version": "3.11.5"
  }
 },
 "nbformat": 4,
 "nbformat_minor": 5
}
