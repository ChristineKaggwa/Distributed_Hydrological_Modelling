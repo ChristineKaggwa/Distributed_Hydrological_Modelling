{
 "cells": [
  {
   "cell_type": "markdown",
   "id": "fc3f7d81",
   "metadata": {},
   "source": [
    "## Model Performance \n",
    "\n",
    "## Nash–Sutcliffe efficiency\n",
    "\n",
    "\n",
    "The Nash–Sutcliffe model efficiency coefficient (NSE) is used to assess the predictive skill of hydrological models. It is defined as:\n",
    "\n",
    "$$\n",
    "\\text{NSE} = 1 - \\frac{\\sum_{t=1}^{T} \\left( Q_{obs}^t - Q_{sim}^t \\right)^2}{\\sum_{t=1}^{T} \\left( Q_{obs}^t - \\overline{Q_{obs}} \\right)^2}\n",
    "$$\n",
    "    \n",
    "\n",
    "where:\n",
    "- {\\overline Q_obs} is the mean of observed discharges,\n",
    "- Q_sim is modeled discharge, and\n",
    "- Q_obs is observed discharge at time \\( t \\).\n",
    "\n"
   ]
  },
  {
   "cell_type": "markdown",
   "id": "53c3ec28",
   "metadata": {},
   "source": [
    "## The Kling-Gupta Efficiency (KGE) \n",
    "\n",
    "- is a statistical measure used to evaluate the performance of hydrological models. \n",
    "- It was proposed to overcome the limitations of other measures such as Nash-Sutcliffe Efficiency and R-squared that focus only on reproducing the mean and variance of observed data.\n",
    "\n",
    "https://permetrics.readthedocs.io/en/latest/pages/regression/KGE.html"
   ]
  },
  {
   "cell_type": "code",
   "execution_count": null,
   "id": "6b0c9c2e",
   "metadata": {},
   "outputs": [],
   "source": [
    "import matplotlib.pyplot as plt\n",
    "import numpy as np\n",
    "import pandas as pd\n",
    "%matplotlib inline\n",
    "\n",
    "#Working with masked array\n",
    "import numpy.ma as ma\n",
    "import math"
   ]
  },
  {
   "cell_type": "code",
   "execution_count": null,
   "id": "a01bdc58",
   "metadata": {},
   "outputs": [],
   "source": [
    "#Calibration Nash Sutcliffe R2\n",
    "def NSE(obs, sim):\n",
    "    obs_arr = np.array(obs)\n",
    "    sim_arr= np.array(sim)\n",
    "    obs_mean = np.nanmean(obs_arr)\n",
    "    \n",
    "    R2= 1- np.nansum((obs_arr-sim_arr)**2)/np.nansum ((obs_arr-obs_mean)**2)\n",
    "\n",
    "    return R2"
   ]
  },
  {
   "cell_type": "code",
   "execution_count": null,
   "id": "04cf5074",
   "metadata": {},
   "outputs": [],
   "source": [
    "from permetrics.regression import RegressionMetric"
   ]
  },
  {
   "cell_type": "code",
   "execution_count": null,
   "id": "32756f0e",
   "metadata": {},
   "outputs": [],
   "source": [
    "def KGE(obs, sim): #Kling Gupta Efficiency\n",
    "    obs_arr = np.array(obs)\n",
    "    sim_arr= np.array(sim)\n",
    "    evaluator = RegressionMetric(obs_arr, sim_arr)\n",
    "    KGE= evaluator.KGE(multi_output=\"raw_values\")\n",
    "\n",
    "    return KGE\n"
   ]
  }
 ],
 "metadata": {
  "kernelspec": {
   "display_name": "climate",
   "language": "python",
   "name": "climate"
  },
  "language_info": {
   "codemirror_mode": {
    "name": "ipython",
    "version": 3
   },
   "file_extension": ".py",
   "mimetype": "text/x-python",
   "name": "python",
   "nbconvert_exporter": "python",
   "pygments_lexer": "ipython3",
   "version": "3.11.4"
  }
 },
 "nbformat": 4,
 "nbformat_minor": 5
}
